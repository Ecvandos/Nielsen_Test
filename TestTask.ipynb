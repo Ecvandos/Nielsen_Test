{
 "cells": [
  {
   "cell_type": "code",
   "execution_count": 1,
   "metadata": {
    "id": "KfOJ7ihgJsXe"
   },
   "outputs": [],
   "source": [
    "# Подключение библиотек\n",
    "\n",
    "import os \n",
    "import pandas as pd\n",
    "from nltk.stem.snowball import SnowballStemmer\n",
    "import string"
   ]
  },
  {
   "cell_type": "code",
   "execution_count": 2,
   "metadata": {
    "id": "geAD9ZO-JxPO"
   },
   "outputs": [],
   "source": [
    "# Путь к файлам с данными\n",
    "path = 'data'\n",
    "\n",
    "# Переход в папку с данным путём \n",
    "os.chdir(path) \n",
    "\n",
    "# Считывание всех файлов с данными для датасета в список\n",
    "datasets = [pd.read_csv(os.path.basename(file), low_memory=False) for file in os.listdir() if file.startswith('data')]"
   ]
  },
  {
   "cell_type": "code",
   "execution_count": 3,
   "metadata": {
    "id": "Mt0xiHufKalF"
   },
   "outputs": [],
   "source": [
    "# Объединение данных в один датасет\n",
    "\n",
    "df = pd.concat(datasets,ignore_index=True).drop_duplicates().sort_values('Number').reset_index(drop=True)\n",
    "df = df.drop(columns='Unnamed: 0')"
   ]
  },
  {
   "cell_type": "code",
   "execution_count": 4,
   "metadata": {
    "colab": {
     "base_uri": "https://localhost:8080/",
     "height": 206
    },
    "id": "iHIZCZdZLU6Z",
    "outputId": "7c08f97b-1dc8-4e6b-ab0e-b6ea6de16a73"
   },
   "outputs": [
    {
     "data": {
      "text/html": [
       "<div>\n",
       "<style scoped>\n",
       "    .dataframe tbody tr th:only-of-type {\n",
       "        vertical-align: middle;\n",
       "    }\n",
       "\n",
       "    .dataframe tbody tr th {\n",
       "        vertical-align: top;\n",
       "    }\n",
       "\n",
       "    .dataframe thead th {\n",
       "        text-align: right;\n",
       "    }\n",
       "</style>\n",
       "<table border=\"1\" class=\"dataframe\">\n",
       "  <thead>\n",
       "    <tr style=\"text-align: right;\">\n",
       "      <th></th>\n",
       "      <th>Number</th>\n",
       "      <th>Barcode</th>\n",
       "      <th>Name</th>\n",
       "    </tr>\n",
       "  </thead>\n",
       "  <tbody>\n",
       "    <tr>\n",
       "      <th>0</th>\n",
       "      <td>1</td>\n",
       "      <td>3165140852395</td>\n",
       "      <td>Далекомір BOSCH Zamo II (металлическая упаковк...</td>\n",
       "    </tr>\n",
       "    <tr>\n",
       "      <th>1</th>\n",
       "      <td>1</td>\n",
       "      <td>4044996135779</td>\n",
       "      <td>Отвертка, SL5 х 100 мм, CrV, двухкомпонентная ...</td>\n",
       "    </tr>\n",
       "    <tr>\n",
       "      <th>2</th>\n",
       "      <td>1</td>\n",
       "      <td>4606008386861</td>\n",
       "      <td>Пенал школьный 46450/25 Собачки малиновый Феникс</td>\n",
       "    </tr>\n",
       "    <tr>\n",
       "      <th>3</th>\n",
       "      <td>2</td>\n",
       "      <td>4811208002736</td>\n",
       "      <td>Анкер-клин 6х60 мм STARFIX SMP1-83721-1</td>\n",
       "    </tr>\n",
       "    <tr>\n",
       "      <th>4</th>\n",
       "      <td>2</td>\n",
       "      <td>4811208002736</td>\n",
       "      <td>Анкер-клин 6х60 мм STARFIX SMP1-83721-1</td>\n",
       "    </tr>\n",
       "  </tbody>\n",
       "</table>\n",
       "</div>"
      ],
      "text/plain": [
       "   Number        Barcode                                               Name\n",
       "0       1  3165140852395  Далекомір BOSCH Zamo II (металлическая упаковк...\n",
       "1       1  4044996135779  Отвертка, SL5 х 100 мм, CrV, двухкомпонентная ...\n",
       "2       1  4606008386861   Пенал школьный 46450/25 Собачки малиновый Феникс\n",
       "3       2  4811208002736            Анкер-клин 6х60 мм STARFIX SMP1-83721-1\n",
       "4       2  4811208002736            Анкер-клин 6х60 мм STARFIX SMP1-83721-1"
      ]
     },
     "execution_count": 4,
     "metadata": {},
     "output_type": "execute_result"
    }
   ],
   "source": [
    "df.head()"
   ]
  },
  {
   "cell_type": "code",
   "execution_count": 5,
   "metadata": {
    "id": "IkR7moUt_MiW"
   },
   "outputs": [],
   "source": [
    "# Стемминг текстовых описаний\n",
    "\n",
    "stemmer = SnowballStemmer('english')\n",
    "\n",
    "df['Name'] = df['Name'].apply(lambda x: ''.join([stemmer.stem(y) for y in x]))"
   ]
  },
  {
   "cell_type": "code",
   "execution_count": 6,
   "metadata": {
    "colab": {
     "base_uri": "https://localhost:8080/",
     "height": 423
    },
    "id": "97WDeHAmAamA",
    "outputId": "946b8a81-c5c8-4827-cfa3-ac3226a07163"
   },
   "outputs": [
    {
     "data": {
      "text/html": [
       "<div>\n",
       "<style scoped>\n",
       "    .dataframe tbody tr th:only-of-type {\n",
       "        vertical-align: middle;\n",
       "    }\n",
       "\n",
       "    .dataframe tbody tr th {\n",
       "        vertical-align: top;\n",
       "    }\n",
       "\n",
       "    .dataframe thead th {\n",
       "        text-align: right;\n",
       "    }\n",
       "</style>\n",
       "<table border=\"1\" class=\"dataframe\">\n",
       "  <thead>\n",
       "    <tr style=\"text-align: right;\">\n",
       "      <th></th>\n",
       "      <th>Number</th>\n",
       "      <th>Barcode</th>\n",
       "      <th>Name</th>\n",
       "    </tr>\n",
       "  </thead>\n",
       "  <tbody>\n",
       "    <tr>\n",
       "      <th>0</th>\n",
       "      <td>1</td>\n",
       "      <td>3165140852395</td>\n",
       "      <td>далекомір bosch zamo ii (металлическая упаковк...</td>\n",
       "    </tr>\n",
       "    <tr>\n",
       "      <th>1</th>\n",
       "      <td>1</td>\n",
       "      <td>4044996135779</td>\n",
       "      <td>отвертка, sl5 х 100 мм, crv, двухкомпонентная ...</td>\n",
       "    </tr>\n",
       "    <tr>\n",
       "      <th>2</th>\n",
       "      <td>1</td>\n",
       "      <td>4606008386861</td>\n",
       "      <td>пенал школьный 46450/25 собачки малиновый феникс</td>\n",
       "    </tr>\n",
       "    <tr>\n",
       "      <th>3</th>\n",
       "      <td>2</td>\n",
       "      <td>4811208002736</td>\n",
       "      <td>анкер-клин 6х60 мм starfix smp1-83721-1</td>\n",
       "    </tr>\n",
       "    <tr>\n",
       "      <th>4</th>\n",
       "      <td>2</td>\n",
       "      <td>4811208002736</td>\n",
       "      <td>анкер-клин 6х60 мм starfix smp1-83721-1</td>\n",
       "    </tr>\n",
       "  </tbody>\n",
       "</table>\n",
       "</div>"
      ],
      "text/plain": [
       "   Number        Barcode                                               Name\n",
       "0       1  3165140852395  далекомір bosch zamo ii (металлическая упаковк...\n",
       "1       1  4044996135779  отвертка, sl5 х 100 мм, crv, двухкомпонентная ...\n",
       "2       1  4606008386861   пенал школьный 46450/25 собачки малиновый феникс\n",
       "3       2  4811208002736            анкер-клин 6х60 мм starfix smp1-83721-1\n",
       "4       2  4811208002736            анкер-клин 6х60 мм starfix smp1-83721-1"
      ]
     },
     "execution_count": 6,
     "metadata": {},
     "output_type": "execute_result"
    }
   ],
   "source": [
    "df.head()"
   ]
  },
  {
   "cell_type": "code",
   "execution_count": 7,
   "metadata": {
    "id": "KxWHYryFrJiR"
   },
   "outputs": [],
   "source": [
    "# Удаление символов пунктуации\n",
    "\n",
    "df['Name'] = df['Name'].apply(lambda x: x.translate(str.maketrans('', '', string.punctuation)))"
   ]
  },
  {
   "cell_type": "code",
   "execution_count": 8,
   "metadata": {
    "colab": {
     "base_uri": "https://localhost:8080/",
     "height": 423
    },
    "id": "kUaKV_N3wdwn",
    "outputId": "fd7780d0-7928-40ec-f877-9d4d2715f76a"
   },
   "outputs": [
    {
     "data": {
      "text/html": [
       "<div>\n",
       "<style scoped>\n",
       "    .dataframe tbody tr th:only-of-type {\n",
       "        vertical-align: middle;\n",
       "    }\n",
       "\n",
       "    .dataframe tbody tr th {\n",
       "        vertical-align: top;\n",
       "    }\n",
       "\n",
       "    .dataframe thead th {\n",
       "        text-align: right;\n",
       "    }\n",
       "</style>\n",
       "<table border=\"1\" class=\"dataframe\">\n",
       "  <thead>\n",
       "    <tr style=\"text-align: right;\">\n",
       "      <th></th>\n",
       "      <th>Number</th>\n",
       "      <th>Barcode</th>\n",
       "      <th>Name</th>\n",
       "    </tr>\n",
       "  </thead>\n",
       "  <tbody>\n",
       "    <tr>\n",
       "      <th>0</th>\n",
       "      <td>1</td>\n",
       "      <td>3165140852395</td>\n",
       "      <td>далекомір bosch zamo ii металлическая упаковка...</td>\n",
       "    </tr>\n",
       "    <tr>\n",
       "      <th>1</th>\n",
       "      <td>1</td>\n",
       "      <td>4044996135779</td>\n",
       "      <td>отвертка sl5 х 100 мм crv двухкомпонентная рук...</td>\n",
       "    </tr>\n",
       "    <tr>\n",
       "      <th>2</th>\n",
       "      <td>1</td>\n",
       "      <td>4606008386861</td>\n",
       "      <td>пенал школьный 4645025 собачки малиновый феникс</td>\n",
       "    </tr>\n",
       "    <tr>\n",
       "      <th>3</th>\n",
       "      <td>2</td>\n",
       "      <td>4811208002736</td>\n",
       "      <td>анкерклин 6х60 мм starfix smp1837211</td>\n",
       "    </tr>\n",
       "    <tr>\n",
       "      <th>4</th>\n",
       "      <td>2</td>\n",
       "      <td>4811208002736</td>\n",
       "      <td>анкерклин 6х60 мм starfix smp1837211</td>\n",
       "    </tr>\n",
       "  </tbody>\n",
       "</table>\n",
       "</div>"
      ],
      "text/plain": [
       "   Number        Barcode                                               Name\n",
       "0       1  3165140852395  далекомір bosch zamo ii металлическая упаковка...\n",
       "1       1  4044996135779  отвертка sl5 х 100 мм crv двухкомпонентная рук...\n",
       "2       1  4606008386861    пенал школьный 4645025 собачки малиновый феникс\n",
       "3       2  4811208002736               анкерклин 6х60 мм starfix smp1837211\n",
       "4       2  4811208002736               анкерклин 6х60 мм starfix smp1837211"
      ]
     },
     "execution_count": 8,
     "metadata": {},
     "output_type": "execute_result"
    }
   ],
   "source": [
    "df.head()"
   ]
  },
  {
   "cell_type": "markdown",
   "metadata": {
    "id": "KVyLRmUu-Jua"
   },
   "source": [
    "Формула для метрики похожести:\n",
    "\n",
    "$\\mathrm{similarity} = \\frac{|\\bigcap_{i=1}^{k} S_k|}{|\\bigcup_{i=1}^{k} S_k|}$,\n",
    "\n",
    "где $S_1, \\dots, S_k$ -- текстовые описания (строки из слов)."
   ]
  },
  {
   "cell_type": "code",
   "execution_count": 9,
   "metadata": {
    "id": "F1QWz_IA7ExL"
   },
   "outputs": [],
   "source": [
    "# Функция для получения множества слов по текстовому описанию\n",
    "# Вход: текстовое описание\n",
    "# Выход: множество слов в текстовом описании\n",
    "\n",
    "def words(sentence):\n",
    "    sentence += ' '\n",
    "    w = []\n",
    "    start = 0\n",
    "    end = 0\n",
    "    while end <= len(sentence) - 2:\n",
    "        if sentence[end+1] == ' ':\n",
    "            end = end + 2\n",
    "            w.append(sentence[start:end-1])\n",
    "            start = end\n",
    "        else:\n",
    "            end = end + 1\n",
    "    return set(w)\n",
    "\n",
    "# Функция для рассчёта метрики похожести двух текстовых описаний\n",
    "# Вход: список текстовых описаний\n",
    "# Выход: список из множеств слов в текстовых описаниях (слово = подстрока, разделённая пробелами)\n",
    "\n",
    "def similarity(sentences):\n",
    "    # Преобразование списка описаний к списку множеств слов\n",
    "    sentences_trans = [words(sentence) for sentence in sentences]\n",
    "    # Число элементов в пересечении\n",
    "    size_of_inter = len(set.intersection(*sentences_trans))\n",
    "    # Число элементов в объединении\n",
    "    size_of_union = len(set.union(*sentences_trans))\n",
    "    # Метрика похожести\n",
    "    similarity_metric = size_of_inter / size_of_union\n",
    "    # Вывод значения похожести в процентах\n",
    "    return float('{:.2f}'.format(similarity_metric*100))"
   ]
  },
  {
   "cell_type": "code",
   "execution_count": 10,
   "metadata": {
    "id": "6cFuVwzMe33J"
   },
   "outputs": [],
   "source": [
    "# Новая таблица со сгруппированными текстовыми описаниями для каждого номера карточки\n",
    "\n",
    "data = df.drop(columns='Barcode').groupby('Number').agg(set)"
   ]
  },
  {
   "cell_type": "code",
   "execution_count": 11,
   "metadata": {
    "colab": {
     "base_uri": "https://localhost:8080/",
     "height": 237
    },
    "id": "DgYBcRXh_IKV",
    "outputId": "cbb9cee9-6cf9-4325-dbb4-b31f8bbd41d2"
   },
   "outputs": [
    {
     "data": {
      "text/html": [
       "<div>\n",
       "<style scoped>\n",
       "    .dataframe tbody tr th:only-of-type {\n",
       "        vertical-align: middle;\n",
       "    }\n",
       "\n",
       "    .dataframe tbody tr th {\n",
       "        vertical-align: top;\n",
       "    }\n",
       "\n",
       "    .dataframe thead th {\n",
       "        text-align: right;\n",
       "    }\n",
       "</style>\n",
       "<table border=\"1\" class=\"dataframe\">\n",
       "  <thead>\n",
       "    <tr style=\"text-align: right;\">\n",
       "      <th></th>\n",
       "      <th>Name</th>\n",
       "    </tr>\n",
       "    <tr>\n",
       "      <th>Number</th>\n",
       "      <th></th>\n",
       "    </tr>\n",
       "  </thead>\n",
       "  <tbody>\n",
       "    <tr>\n",
       "      <th>1</th>\n",
       "      <td>{отвертка sl5 х 100 мм crv двухкомпонентная ру...</td>\n",
       "    </tr>\n",
       "    <tr>\n",
       "      <th>2</th>\n",
       "      <td>{анкерклин 6х60 мм starfix smp1837211, чохол t...</td>\n",
       "    </tr>\n",
       "    <tr>\n",
       "      <th>4</th>\n",
       "      <td>{скалка деревянная фигурная сердечки 283см, см...</td>\n",
       "    </tr>\n",
       "    <tr>\n",
       "      <th>5</th>\n",
       "      <td>{светильник loft lsp9805}</td>\n",
       "    </tr>\n",
       "    <tr>\n",
       "      <th>7</th>\n",
       "      <td>{32 жк монитор dell p3222qe  505267 }</td>\n",
       "    </tr>\n",
       "  </tbody>\n",
       "</table>\n",
       "</div>"
      ],
      "text/plain": [
       "                                                     Name\n",
       "Number                                                   \n",
       "1       {отвертка sl5 х 100 мм crv двухкомпонентная ру...\n",
       "2       {анкерклин 6х60 мм starfix smp1837211, чохол t...\n",
       "4       {скалка деревянная фигурная сердечки 283см, см...\n",
       "5                               {светильник loft lsp9805}\n",
       "7                   {32 жк монитор dell p3222qe  505267 }"
      ]
     },
     "execution_count": 11,
     "metadata": {},
     "output_type": "execute_result"
    }
   ],
   "source": [
    "data.head()"
   ]
  },
  {
   "cell_type": "code",
   "execution_count": 12,
   "metadata": {
    "id": "IR26OjdwiBlv"
   },
   "outputs": [],
   "source": [
    "# Вычисление похожести для каждого набора текстовых описаний\n",
    "\n",
    "data['Similarity'] = data['Name'].apply(similarity)"
   ]
  },
  {
   "cell_type": "code",
   "execution_count": 13,
   "metadata": {
    "colab": {
     "base_uri": "https://localhost:8080/",
     "height": 237
    },
    "id": "wA83SO1yiGVd",
    "outputId": "c44558dc-3f12-45d0-996b-d91235827073"
   },
   "outputs": [
    {
     "data": {
      "text/html": [
       "<div>\n",
       "<style scoped>\n",
       "    .dataframe tbody tr th:only-of-type {\n",
       "        vertical-align: middle;\n",
       "    }\n",
       "\n",
       "    .dataframe tbody tr th {\n",
       "        vertical-align: top;\n",
       "    }\n",
       "\n",
       "    .dataframe thead th {\n",
       "        text-align: right;\n",
       "    }\n",
       "</style>\n",
       "<table border=\"1\" class=\"dataframe\">\n",
       "  <thead>\n",
       "    <tr style=\"text-align: right;\">\n",
       "      <th></th>\n",
       "      <th>Name</th>\n",
       "      <th>Similarity</th>\n",
       "    </tr>\n",
       "    <tr>\n",
       "      <th>Number</th>\n",
       "      <th></th>\n",
       "      <th></th>\n",
       "    </tr>\n",
       "  </thead>\n",
       "  <tbody>\n",
       "    <tr>\n",
       "      <th>1</th>\n",
       "      <td>{отвертка sl5 х 100 мм crv двухкомпонентная ру...</td>\n",
       "      <td>0.0</td>\n",
       "    </tr>\n",
       "    <tr>\n",
       "      <th>2</th>\n",
       "      <td>{анкерклин 6х60 мм starfix smp1837211, чохол t...</td>\n",
       "      <td>0.0</td>\n",
       "    </tr>\n",
       "    <tr>\n",
       "      <th>4</th>\n",
       "      <td>{скалка деревянная фигурная сердечки 283см, см...</td>\n",
       "      <td>0.0</td>\n",
       "    </tr>\n",
       "    <tr>\n",
       "      <th>5</th>\n",
       "      <td>{светильник loft lsp9805}</td>\n",
       "      <td>100.0</td>\n",
       "    </tr>\n",
       "    <tr>\n",
       "      <th>7</th>\n",
       "      <td>{32 жк монитор dell p3222qe  505267 }</td>\n",
       "      <td>100.0</td>\n",
       "    </tr>\n",
       "  </tbody>\n",
       "</table>\n",
       "</div>"
      ],
      "text/plain": [
       "                                                     Name  Similarity\n",
       "Number                                                               \n",
       "1       {отвертка sl5 х 100 мм crv двухкомпонентная ру...         0.0\n",
       "2       {анкерклин 6х60 мм starfix smp1837211, чохол t...         0.0\n",
       "4       {скалка деревянная фигурная сердечки 283см, см...         0.0\n",
       "5                               {светильник loft lsp9805}       100.0\n",
       "7                   {32 жк монитор dell p3222qe  505267 }       100.0"
      ]
     },
     "execution_count": 13,
     "metadata": {},
     "output_type": "execute_result"
    }
   ],
   "source": [
    "data.head()"
   ]
  },
  {
   "cell_type": "code",
   "execution_count": 14,
   "metadata": {
    "id": "cnk43x_W5XyW"
   },
   "outputs": [],
   "source": [
    "result = pd.merge(df, data.drop(columns='Name'), on='Number', how='inner')"
   ]
  },
  {
   "cell_type": "code",
   "execution_count": 15,
   "metadata": {
    "colab": {
     "base_uri": "https://localhost:8080/",
     "height": 206
    },
    "id": "nwVsVGP65gdY",
    "outputId": "cc020a39-cff7-455b-9559-62dc5cffe326"
   },
   "outputs": [
    {
     "data": {
      "text/html": [
       "<div>\n",
       "<style scoped>\n",
       "    .dataframe tbody tr th:only-of-type {\n",
       "        vertical-align: middle;\n",
       "    }\n",
       "\n",
       "    .dataframe tbody tr th {\n",
       "        vertical-align: top;\n",
       "    }\n",
       "\n",
       "    .dataframe thead th {\n",
       "        text-align: right;\n",
       "    }\n",
       "</style>\n",
       "<table border=\"1\" class=\"dataframe\">\n",
       "  <thead>\n",
       "    <tr style=\"text-align: right;\">\n",
       "      <th></th>\n",
       "      <th>Number</th>\n",
       "      <th>Barcode</th>\n",
       "      <th>Name</th>\n",
       "      <th>Similarity</th>\n",
       "    </tr>\n",
       "  </thead>\n",
       "  <tbody>\n",
       "    <tr>\n",
       "      <th>0</th>\n",
       "      <td>1</td>\n",
       "      <td>3165140852395</td>\n",
       "      <td>далекомір bosch zamo ii металлическая упаковка...</td>\n",
       "      <td>0.0</td>\n",
       "    </tr>\n",
       "    <tr>\n",
       "      <th>1</th>\n",
       "      <td>1</td>\n",
       "      <td>4044996135779</td>\n",
       "      <td>отвертка sl5 х 100 мм crv двухкомпонентная рук...</td>\n",
       "      <td>0.0</td>\n",
       "    </tr>\n",
       "    <tr>\n",
       "      <th>2</th>\n",
       "      <td>1</td>\n",
       "      <td>4606008386861</td>\n",
       "      <td>пенал школьный 4645025 собачки малиновый феникс</td>\n",
       "      <td>0.0</td>\n",
       "    </tr>\n",
       "    <tr>\n",
       "      <th>3</th>\n",
       "      <td>2</td>\n",
       "      <td>4811208002736</td>\n",
       "      <td>анкерклин 6х60 мм starfix smp1837211</td>\n",
       "      <td>0.0</td>\n",
       "    </tr>\n",
       "    <tr>\n",
       "      <th>4</th>\n",
       "      <td>2</td>\n",
       "      <td>4811208002736</td>\n",
       "      <td>анкерклин 6х60 мм starfix smp1837211</td>\n",
       "      <td>0.0</td>\n",
       "    </tr>\n",
       "  </tbody>\n",
       "</table>\n",
       "</div>"
      ],
      "text/plain": [
       "   Number        Barcode                                               Name  \\\n",
       "0       1  3165140852395  далекомір bosch zamo ii металлическая упаковка...   \n",
       "1       1  4044996135779  отвертка sl5 х 100 мм crv двухкомпонентная рук...   \n",
       "2       1  4606008386861    пенал школьный 4645025 собачки малиновый феникс   \n",
       "3       2  4811208002736               анкерклин 6х60 мм starfix smp1837211   \n",
       "4       2  4811208002736               анкерклин 6х60 мм starfix smp1837211   \n",
       "\n",
       "   Similarity  \n",
       "0         0.0  \n",
       "1         0.0  \n",
       "2         0.0  \n",
       "3         0.0  \n",
       "4         0.0  "
      ]
     },
     "execution_count": 15,
     "metadata": {},
     "output_type": "execute_result"
    }
   ],
   "source": [
    "result.head()"
   ]
  },
  {
   "cell_type": "code",
   "execution_count": 16,
   "metadata": {
    "id": "NqDeKFbx7RkU"
   },
   "outputs": [],
   "source": [
    "result.to_csv('../data/result.csv')"
   ]
  }
 ],
 "metadata": {
  "colab": {
   "provenance": []
  },
  "kernelspec": {
   "display_name": "Python 3 (ipykernel)",
   "language": "python",
   "name": "python3"
  },
  "language_info": {
   "codemirror_mode": {
    "name": "ipython",
    "version": 3
   },
   "file_extension": ".py",
   "mimetype": "text/x-python",
   "name": "python",
   "nbconvert_exporter": "python",
   "pygments_lexer": "ipython3",
   "version": "3.11.7"
  }
 },
 "nbformat": 4,
 "nbformat_minor": 4
}
