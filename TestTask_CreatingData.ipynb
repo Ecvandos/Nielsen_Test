{
 "cells": [
  {
   "cell_type": "code",
   "execution_count": 1,
   "metadata": {
    "id": "_TcWKhpku4bf"
   },
   "outputs": [],
   "source": [
    "# Подключение библиотек\n",
    "\n",
    "import pandas as pd"
   ]
  },
  {
   "cell_type": "code",
   "execution_count": 2,
   "metadata": {
    "id": "tIDGHG9A4S-I"
   },
   "outputs": [],
   "source": [
    "# Загрузка данных\n",
    "\n",
    "df = pd.read_csv('data/barcodes.csv', low_memory=False)"
   ]
  },
  {
   "cell_type": "code",
   "execution_count": 3,
   "metadata": {
    "colab": {
     "base_uri": "https://localhost:8080/",
     "height": 300
    },
    "id": "W2lFQ8HO5U8H",
    "outputId": "b2a4b7c4-c596-40ae-bc25-4ba6df58c198"
   },
   "outputs": [
    {
     "data": {
      "text/html": [
       "<div>\n",
       "<style scoped>\n",
       "    .dataframe tbody tr th:only-of-type {\n",
       "        vertical-align: middle;\n",
       "    }\n",
       "\n",
       "    .dataframe tbody tr th {\n",
       "        vertical-align: top;\n",
       "    }\n",
       "\n",
       "    .dataframe thead th {\n",
       "        text-align: right;\n",
       "    }\n",
       "</style>\n",
       "<table border=\"1\" class=\"dataframe\">\n",
       "  <thead>\n",
       "    <tr style=\"text-align: right;\">\n",
       "      <th></th>\n",
       "      <th>Unnamed: 0</th>\n",
       "      <th>Id</th>\n",
       "      <th>Article</th>\n",
       "    </tr>\n",
       "  </thead>\n",
       "  <tbody>\n",
       "    <tr>\n",
       "      <th>count</th>\n",
       "      <td>150913.000000</td>\n",
       "      <td>150913.000000</td>\n",
       "      <td>0.0</td>\n",
       "    </tr>\n",
       "    <tr>\n",
       "      <th>mean</th>\n",
       "      <td>377909.320642</td>\n",
       "      <td>377910.320642</td>\n",
       "      <td>NaN</td>\n",
       "    </tr>\n",
       "    <tr>\n",
       "      <th>std</th>\n",
       "      <td>218130.327478</td>\n",
       "      <td>218130.327478</td>\n",
       "      <td>NaN</td>\n",
       "    </tr>\n",
       "    <tr>\n",
       "      <th>min</th>\n",
       "      <td>0.000000</td>\n",
       "      <td>1.000000</td>\n",
       "      <td>NaN</td>\n",
       "    </tr>\n",
       "    <tr>\n",
       "      <th>25%</th>\n",
       "      <td>188983.000000</td>\n",
       "      <td>188984.000000</td>\n",
       "      <td>NaN</td>\n",
       "    </tr>\n",
       "    <tr>\n",
       "      <th>50%</th>\n",
       "      <td>378727.000000</td>\n",
       "      <td>378728.000000</td>\n",
       "      <td>NaN</td>\n",
       "    </tr>\n",
       "    <tr>\n",
       "      <th>75%</th>\n",
       "      <td>566812.000000</td>\n",
       "      <td>566813.000000</td>\n",
       "      <td>NaN</td>\n",
       "    </tr>\n",
       "    <tr>\n",
       "      <th>max</th>\n",
       "      <td>754566.000000</td>\n",
       "      <td>754567.000000</td>\n",
       "      <td>NaN</td>\n",
       "    </tr>\n",
       "  </tbody>\n",
       "</table>\n",
       "</div>"
      ],
      "text/plain": [
       "          Unnamed: 0             Id  Article\n",
       "count  150913.000000  150913.000000      0.0\n",
       "mean   377909.320642  377910.320642      NaN\n",
       "std    218130.327478  218130.327478      NaN\n",
       "min         0.000000       1.000000      NaN\n",
       "25%    188983.000000  188984.000000      NaN\n",
       "50%    378727.000000  378728.000000      NaN\n",
       "75%    566812.000000  566813.000000      NaN\n",
       "max    754566.000000  754567.000000      NaN"
      ]
     },
     "execution_count": 3,
     "metadata": {},
     "output_type": "execute_result"
    }
   ],
   "source": [
    "df.describe()"
   ]
  },
  {
   "cell_type": "code",
   "execution_count": 4,
   "metadata": {
    "colab": {
     "base_uri": "https://localhost:8080/"
    },
    "id": "cfNFFhYW5dCF",
    "outputId": "5c12c511-61fc-46b2-d903-f90025cebf06"
   },
   "outputs": [
    {
     "name": "stdout",
     "output_type": "stream",
     "text": [
      "<class 'pandas.core.frame.DataFrame'>\n",
      "RangeIndex: 150913 entries, 0 to 150912\n",
      "Data columns (total 7 columns):\n",
      " #   Column      Non-Null Count   Dtype  \n",
      "---  ------      --------------   -----  \n",
      " 0   Unnamed: 0  150913 non-null  int64  \n",
      " 1   Id          150913 non-null  int64  \n",
      " 2   Category    95528 non-null   object \n",
      " 3   Vendor      86978 non-null   object \n",
      " 4   Name        150913 non-null  object \n",
      " 5   Article     0 non-null       float64\n",
      " 6   Barcode     150913 non-null  object \n",
      "dtypes: float64(1), int64(2), object(4)\n",
      "memory usage: 8.1+ MB\n"
     ]
    }
   ],
   "source": [
    "df.info()"
   ]
  },
  {
   "cell_type": "code",
   "execution_count": 5,
   "metadata": {
    "colab": {
     "base_uri": "https://localhost:8080/",
     "height": 424
    },
    "id": "J2XPs4fF4kVR",
    "outputId": "b808e3a6-8788-4863-9931-7a0e310b6bc1"
   },
   "outputs": [
    {
     "data": {
      "text/html": [
       "<div>\n",
       "<style scoped>\n",
       "    .dataframe tbody tr th:only-of-type {\n",
       "        vertical-align: middle;\n",
       "    }\n",
       "\n",
       "    .dataframe tbody tr th {\n",
       "        vertical-align: top;\n",
       "    }\n",
       "\n",
       "    .dataframe thead th {\n",
       "        text-align: right;\n",
       "    }\n",
       "</style>\n",
       "<table border=\"1\" class=\"dataframe\">\n",
       "  <thead>\n",
       "    <tr style=\"text-align: right;\">\n",
       "      <th></th>\n",
       "      <th>Unnamed: 0</th>\n",
       "      <th>Id</th>\n",
       "      <th>Category</th>\n",
       "      <th>Vendor</th>\n",
       "      <th>Name</th>\n",
       "      <th>Article</th>\n",
       "      <th>Barcode</th>\n",
       "    </tr>\n",
       "  </thead>\n",
       "  <tbody>\n",
       "    <tr>\n",
       "      <th>0</th>\n",
       "      <td>71323</td>\n",
       "      <td>71324</td>\n",
       "      <td>Письменные принадлежности</td>\n",
       "      <td>Феникс</td>\n",
       "      <td>Пенал школьный 46450/25 Собачки малиновый Феникс</td>\n",
       "      <td>NaN</td>\n",
       "      <td>4606008386861</td>\n",
       "    </tr>\n",
       "    <tr>\n",
       "      <th>1</th>\n",
       "      <td>169912</td>\n",
       "      <td>169913</td>\n",
       "      <td>NaN</td>\n",
       "      <td>СИБРТЕХ</td>\n",
       "      <td>Отвертка, SL5 х 100 мм, CrV, двухкомпонентная ...</td>\n",
       "      <td>NaN</td>\n",
       "      <td>4044996135779</td>\n",
       "    </tr>\n",
       "    <tr>\n",
       "      <th>2</th>\n",
       "      <td>621254</td>\n",
       "      <td>621255</td>\n",
       "      <td>Дальномеры</td>\n",
       "      <td>BOSCH</td>\n",
       "      <td>Далекомір BOSCH Zamo II (металлическая упаковк...</td>\n",
       "      <td>NaN</td>\n",
       "      <td>3165140852395</td>\n",
       "    </tr>\n",
       "    <tr>\n",
       "      <th>3</th>\n",
       "      <td>466432</td>\n",
       "      <td>466433</td>\n",
       "      <td>NaN</td>\n",
       "      <td>NaN</td>\n",
       "      <td>Чохол THULE Vectros Protective 13 \"MacBook Air...</td>\n",
       "      <td>NaN</td>\n",
       "      <td>085854233439</td>\n",
       "    </tr>\n",
       "    <tr>\n",
       "      <th>4</th>\n",
       "      <td>160892</td>\n",
       "      <td>160893</td>\n",
       "      <td>NaN</td>\n",
       "      <td>SKIPFIRE LIMITED, Romamou,2, TLAIS TOWER, 6th ...</td>\n",
       "      <td>Анкер-клин 6х60 мм STARFIX SMP1-83721-1</td>\n",
       "      <td>NaN</td>\n",
       "      <td>4811208002736</td>\n",
       "    </tr>\n",
       "    <tr>\n",
       "      <th>...</th>\n",
       "      <td>...</td>\n",
       "      <td>...</td>\n",
       "      <td>...</td>\n",
       "      <td>...</td>\n",
       "      <td>...</td>\n",
       "      <td>...</td>\n",
       "      <td>...</td>\n",
       "    </tr>\n",
       "    <tr>\n",
       "      <th>150908</th>\n",
       "      <td>276570</td>\n",
       "      <td>276571</td>\n",
       "      <td>NaN</td>\n",
       "      <td>NaN</td>\n",
       "      <td>Нож сантоку FISSMAN VORTEX 13см KN-2112.ST</td>\n",
       "      <td>NaN</td>\n",
       "      <td>5710844021127</td>\n",
       "    </tr>\n",
       "    <tr>\n",
       "      <th>150909</th>\n",
       "      <td>217166</td>\n",
       "      <td>217167</td>\n",
       "      <td>Штукатурно-малярный инструмент</td>\n",
       "      <td>NaN</td>\n",
       "      <td>Валик малярный СибрТех 100 мм ворс 2 мм Велюр ...</td>\n",
       "      <td>NaN</td>\n",
       "      <td>4606800036940</td>\n",
       "    </tr>\n",
       "    <tr>\n",
       "      <th>150910</th>\n",
       "      <td>728647</td>\n",
       "      <td>728648</td>\n",
       "      <td>Настольные лампы и светильники</td>\n",
       "      <td>Odeon light</td>\n",
       "      <td>Настольная лампа Odeon light 4107/12TL ELLEN</td>\n",
       "      <td>NaN</td>\n",
       "      <td>4690344081221</td>\n",
       "    </tr>\n",
       "    <tr>\n",
       "      <th>150911</th>\n",
       "      <td>638171</td>\n",
       "      <td>638172</td>\n",
       "      <td>Акустические системы</td>\n",
       "      <td>Trust</td>\n",
       "      <td>Акустична система Trust GXT 668 TYTAN Soundbar...</td>\n",
       "      <td>NaN</td>\n",
       "      <td>8713439223286</td>\n",
       "    </tr>\n",
       "    <tr>\n",
       "      <th>150912</th>\n",
       "      <td>753663</td>\n",
       "      <td>753664</td>\n",
       "      <td>Кухонные вытяжки</td>\n",
       "      <td>NaN</td>\n",
       "      <td>Вытяжка ORE Glasset 60 WHITE</td>\n",
       "      <td>NaN</td>\n",
       "      <td>7079988607825</td>\n",
       "    </tr>\n",
       "  </tbody>\n",
       "</table>\n",
       "<p>150913 rows × 7 columns</p>\n",
       "</div>"
      ],
      "text/plain": [
       "        Unnamed: 0      Id                        Category  \\\n",
       "0            71323   71324       Письменные принадлежности   \n",
       "1           169912  169913                             NaN   \n",
       "2           621254  621255                      Дальномеры   \n",
       "3           466432  466433                             NaN   \n",
       "4           160892  160893                             NaN   \n",
       "...            ...     ...                             ...   \n",
       "150908      276570  276571                             NaN   \n",
       "150909      217166  217167  Штукатурно-малярный инструмент   \n",
       "150910      728647  728648  Настольные лампы и светильники   \n",
       "150911      638171  638172            Акустические системы   \n",
       "150912      753663  753664                Кухонные вытяжки   \n",
       "\n",
       "                                                   Vendor  \\\n",
       "0                                                  Феникс   \n",
       "1                                                 СИБРТЕХ   \n",
       "2                                                   BOSCH   \n",
       "3                                                     NaN   \n",
       "4       SKIPFIRE LIMITED, Romamou,2, TLAIS TOWER, 6th ...   \n",
       "...                                                   ...   \n",
       "150908                                                NaN   \n",
       "150909                                                NaN   \n",
       "150910                                        Odeon light   \n",
       "150911                                              Trust   \n",
       "150912                                                NaN   \n",
       "\n",
       "                                                     Name  Article  \\\n",
       "0        Пенал школьный 46450/25 Собачки малиновый Феникс      NaN   \n",
       "1       Отвертка, SL5 х 100 мм, CrV, двухкомпонентная ...      NaN   \n",
       "2       Далекомір BOSCH Zamo II (металлическая упаковк...      NaN   \n",
       "3       Чохол THULE Vectros Protective 13 \"MacBook Air...      NaN   \n",
       "4                 Анкер-клин 6х60 мм STARFIX SMP1-83721-1      NaN   \n",
       "...                                                   ...      ...   \n",
       "150908         Нож сантоку FISSMAN VORTEX 13см KN-2112.ST      NaN   \n",
       "150909  Валик малярный СибрТех 100 мм ворс 2 мм Велюр ...      NaN   \n",
       "150910       Настольная лампа Odeon light 4107/12TL ELLEN      NaN   \n",
       "150911  Акустична система Trust GXT 668 TYTAN Soundbar...      NaN   \n",
       "150912                       Вытяжка ORE Glasset 60 WHITE      NaN   \n",
       "\n",
       "              Barcode  \n",
       "0       4606008386861  \n",
       "1       4044996135779  \n",
       "2       3165140852395  \n",
       "3        085854233439  \n",
       "4       4811208002736  \n",
       "...               ...  \n",
       "150908  5710844021127  \n",
       "150909  4606800036940  \n",
       "150910  4690344081221  \n",
       "150911  8713439223286  \n",
       "150912  7079988607825  \n",
       "\n",
       "[150913 rows x 7 columns]"
      ]
     },
     "execution_count": 5,
     "metadata": {},
     "output_type": "execute_result"
    }
   ],
   "source": [
    "df[df.Article.isnull()]"
   ]
  },
  {
   "cell_type": "code",
   "execution_count": 6,
   "metadata": {
    "id": "SXMUsRK_5w-u"
   },
   "outputs": [],
   "source": [
    "data = df.copy()\n",
    "data = data.drop(columns=['Id', 'Category', 'Vendor', 'Article'])"
   ]
  },
  {
   "cell_type": "code",
   "execution_count": 7,
   "metadata": {
    "colab": {
     "base_uri": "https://localhost:8080/"
    },
    "id": "dHba4yGv6Z9x",
    "outputId": "d35a4fd0-0c95-406b-99e8-ff0032ad7b50"
   },
   "outputs": [
    {
     "name": "stdout",
     "output_type": "stream",
     "text": [
      "<class 'pandas.core.frame.DataFrame'>\n",
      "RangeIndex: 150913 entries, 0 to 150912\n",
      "Data columns (total 3 columns):\n",
      " #   Column      Non-Null Count   Dtype \n",
      "---  ------      --------------   ----- \n",
      " 0   Unnamed: 0  150913 non-null  int64 \n",
      " 1   Name        150913 non-null  object\n",
      " 2   Barcode     150913 non-null  object\n",
      "dtypes: int64(1), object(2)\n",
      "memory usage: 3.5+ MB\n"
     ]
    }
   ],
   "source": [
    "data.info()"
   ]
  },
  {
   "cell_type": "code",
   "execution_count": 8,
   "metadata": {
    "id": "stoJIBMB6hLJ"
   },
   "outputs": [],
   "source": [
    "data = data.drop(data[data['Barcode'].isna()].index, axis=0)"
   ]
  },
  {
   "cell_type": "code",
   "execution_count": 9,
   "metadata": {
    "id": "cw3wvWND7JmX"
   },
   "outputs": [],
   "source": [
    "data = data.drop(data[data['Name'].isna()].index, axis=0)"
   ]
  },
  {
   "cell_type": "code",
   "execution_count": 10,
   "metadata": {
    "colab": {
     "base_uri": "https://localhost:8080/",
     "height": 424
    },
    "id": "X1KVJKFW9KPt",
    "outputId": "dd4bf2bb-1738-4ae6-cdb6-771ed18ec90a"
   },
   "outputs": [
    {
     "data": {
      "text/html": [
       "<div>\n",
       "<style scoped>\n",
       "    .dataframe tbody tr th:only-of-type {\n",
       "        vertical-align: middle;\n",
       "    }\n",
       "\n",
       "    .dataframe tbody tr th {\n",
       "        vertical-align: top;\n",
       "    }\n",
       "\n",
       "    .dataframe thead th {\n",
       "        text-align: right;\n",
       "    }\n",
       "</style>\n",
       "<table border=\"1\" class=\"dataframe\">\n",
       "  <thead>\n",
       "    <tr style=\"text-align: right;\">\n",
       "      <th></th>\n",
       "      <th>Unnamed: 0</th>\n",
       "      <th>Name</th>\n",
       "      <th>Barcode</th>\n",
       "    </tr>\n",
       "  </thead>\n",
       "  <tbody>\n",
       "    <tr>\n",
       "      <th>0</th>\n",
       "      <td>71323</td>\n",
       "      <td>Пенал школьный 46450/25 Собачки малиновый Феникс</td>\n",
       "      <td>4606008386861</td>\n",
       "    </tr>\n",
       "    <tr>\n",
       "      <th>1</th>\n",
       "      <td>169912</td>\n",
       "      <td>Отвертка, SL5 х 100 мм, CrV, двухкомпонентная ...</td>\n",
       "      <td>4044996135779</td>\n",
       "    </tr>\n",
       "    <tr>\n",
       "      <th>2</th>\n",
       "      <td>621254</td>\n",
       "      <td>Далекомір BOSCH Zamo II (металлическая упаковк...</td>\n",
       "      <td>3165140852395</td>\n",
       "    </tr>\n",
       "    <tr>\n",
       "      <th>3</th>\n",
       "      <td>466432</td>\n",
       "      <td>Чохол THULE Vectros Protective 13 \"MacBook Air...</td>\n",
       "      <td>085854233439</td>\n",
       "    </tr>\n",
       "    <tr>\n",
       "      <th>4</th>\n",
       "      <td>160892</td>\n",
       "      <td>Анкер-клин 6х60 мм STARFIX SMP1-83721-1</td>\n",
       "      <td>4811208002736</td>\n",
       "    </tr>\n",
       "    <tr>\n",
       "      <th>...</th>\n",
       "      <td>...</td>\n",
       "      <td>...</td>\n",
       "      <td>...</td>\n",
       "    </tr>\n",
       "    <tr>\n",
       "      <th>150908</th>\n",
       "      <td>276570</td>\n",
       "      <td>Нож сантоку FISSMAN VORTEX 13см KN-2112.ST</td>\n",
       "      <td>5710844021127</td>\n",
       "    </tr>\n",
       "    <tr>\n",
       "      <th>150909</th>\n",
       "      <td>217166</td>\n",
       "      <td>Валик малярный СибрТех 100 мм ворс 2 мм Велюр ...</td>\n",
       "      <td>4606800036940</td>\n",
       "    </tr>\n",
       "    <tr>\n",
       "      <th>150910</th>\n",
       "      <td>728647</td>\n",
       "      <td>Настольная лампа Odeon light 4107/12TL ELLEN</td>\n",
       "      <td>4690344081221</td>\n",
       "    </tr>\n",
       "    <tr>\n",
       "      <th>150911</th>\n",
       "      <td>638171</td>\n",
       "      <td>Акустична система Trust GXT 668 TYTAN Soundbar...</td>\n",
       "      <td>8713439223286</td>\n",
       "    </tr>\n",
       "    <tr>\n",
       "      <th>150912</th>\n",
       "      <td>753663</td>\n",
       "      <td>Вытяжка ORE Glasset 60 WHITE</td>\n",
       "      <td>7079988607825</td>\n",
       "    </tr>\n",
       "  </tbody>\n",
       "</table>\n",
       "<p>150913 rows × 3 columns</p>\n",
       "</div>"
      ],
      "text/plain": [
       "        Unnamed: 0                                               Name  \\\n",
       "0            71323   Пенал школьный 46450/25 Собачки малиновый Феникс   \n",
       "1           169912  Отвертка, SL5 х 100 мм, CrV, двухкомпонентная ...   \n",
       "2           621254  Далекомір BOSCH Zamo II (металлическая упаковк...   \n",
       "3           466432  Чохол THULE Vectros Protective 13 \"MacBook Air...   \n",
       "4           160892            Анкер-клин 6х60 мм STARFIX SMP1-83721-1   \n",
       "...            ...                                                ...   \n",
       "150908      276570         Нож сантоку FISSMAN VORTEX 13см KN-2112.ST   \n",
       "150909      217166  Валик малярный СибрТех 100 мм ворс 2 мм Велюр ...   \n",
       "150910      728647       Настольная лампа Odeon light 4107/12TL ELLEN   \n",
       "150911      638171  Акустична система Trust GXT 668 TYTAN Soundbar...   \n",
       "150912      753663                       Вытяжка ORE Glasset 60 WHITE   \n",
       "\n",
       "              Barcode  \n",
       "0       4606008386861  \n",
       "1       4044996135779  \n",
       "2       3165140852395  \n",
       "3        085854233439  \n",
       "4       4811208002736  \n",
       "...               ...  \n",
       "150908  5710844021127  \n",
       "150909  4606800036940  \n",
       "150910  4690344081221  \n",
       "150911  8713439223286  \n",
       "150912  7079988607825  \n",
       "\n",
       "[150913 rows x 3 columns]"
      ]
     },
     "execution_count": 10,
     "metadata": {},
     "output_type": "execute_result"
    }
   ],
   "source": [
    "data"
   ]
  },
  {
   "cell_type": "code",
   "execution_count": 11,
   "metadata": {
    "id": "77GzVaNZAgM9"
   },
   "outputs": [],
   "source": [
    "import random\n",
    "n = data.shape[0]-1\n",
    "mask = [random.randint(0,1) for _ in range(n+1)]"
   ]
  },
  {
   "cell_type": "code",
   "execution_count": 12,
   "metadata": {
    "id": "LOBasA1iA03p"
   },
   "outputs": [],
   "source": [
    "number = [1]\n",
    "for i in range(1, n+1):\n",
    "    if mask[i] == 0:\n",
    "        number.append(number[i-1])\n",
    "    else:\n",
    "        number.append(number[i-1]+1)"
   ]
  },
  {
   "cell_type": "code",
   "execution_count": 13,
   "metadata": {
    "id": "ud41cdbrBdh0"
   },
   "outputs": [],
   "source": [
    "Number = pd.Series(data=number, name='Number')"
   ]
  },
  {
   "cell_type": "code",
   "execution_count": 14,
   "metadata": {
    "id": "Qw3Xf6h-Bkg1"
   },
   "outputs": [],
   "source": [
    "data['Number'] = Number"
   ]
  },
  {
   "cell_type": "code",
   "execution_count": 15,
   "metadata": {
    "colab": {
     "base_uri": "https://localhost:8080/",
     "height": 206
    },
    "id": "0dy3AgV0D7ua",
    "outputId": "401b5ba7-1b97-497b-93f7-e4456c57e68f"
   },
   "outputs": [
    {
     "data": {
      "text/html": [
       "<div>\n",
       "<style scoped>\n",
       "    .dataframe tbody tr th:only-of-type {\n",
       "        vertical-align: middle;\n",
       "    }\n",
       "\n",
       "    .dataframe tbody tr th {\n",
       "        vertical-align: top;\n",
       "    }\n",
       "\n",
       "    .dataframe thead th {\n",
       "        text-align: right;\n",
       "    }\n",
       "</style>\n",
       "<table border=\"1\" class=\"dataframe\">\n",
       "  <thead>\n",
       "    <tr style=\"text-align: right;\">\n",
       "      <th></th>\n",
       "      <th>Unnamed: 0</th>\n",
       "      <th>Name</th>\n",
       "      <th>Barcode</th>\n",
       "      <th>Number</th>\n",
       "    </tr>\n",
       "  </thead>\n",
       "  <tbody>\n",
       "    <tr>\n",
       "      <th>0</th>\n",
       "      <td>71323</td>\n",
       "      <td>Пенал школьный 46450/25 Собачки малиновый Феникс</td>\n",
       "      <td>4606008386861</td>\n",
       "      <td>1</td>\n",
       "    </tr>\n",
       "    <tr>\n",
       "      <th>1</th>\n",
       "      <td>169912</td>\n",
       "      <td>Отвертка, SL5 х 100 мм, CrV, двухкомпонентная ...</td>\n",
       "      <td>4044996135779</td>\n",
       "      <td>1</td>\n",
       "    </tr>\n",
       "    <tr>\n",
       "      <th>2</th>\n",
       "      <td>621254</td>\n",
       "      <td>Далекомір BOSCH Zamo II (металлическая упаковк...</td>\n",
       "      <td>3165140852395</td>\n",
       "      <td>1</td>\n",
       "    </tr>\n",
       "    <tr>\n",
       "      <th>3</th>\n",
       "      <td>466432</td>\n",
       "      <td>Чохол THULE Vectros Protective 13 \"MacBook Air...</td>\n",
       "      <td>085854233439</td>\n",
       "      <td>2</td>\n",
       "    </tr>\n",
       "    <tr>\n",
       "      <th>4</th>\n",
       "      <td>160892</td>\n",
       "      <td>Анкер-клин 6х60 мм STARFIX SMP1-83721-1</td>\n",
       "      <td>4811208002736</td>\n",
       "      <td>2</td>\n",
       "    </tr>\n",
       "  </tbody>\n",
       "</table>\n",
       "</div>"
      ],
      "text/plain": [
       "   Unnamed: 0                                               Name  \\\n",
       "0       71323   Пенал школьный 46450/25 Собачки малиновый Феникс   \n",
       "1      169912  Отвертка, SL5 х 100 мм, CrV, двухкомпонентная ...   \n",
       "2      621254  Далекомір BOSCH Zamo II (металлическая упаковк...   \n",
       "3      466432  Чохол THULE Vectros Protective 13 \"MacBook Air...   \n",
       "4      160892            Анкер-клин 6х60 мм STARFIX SMP1-83721-1   \n",
       "\n",
       "         Barcode  Number  \n",
       "0  4606008386861       1  \n",
       "1  4044996135779       1  \n",
       "2  3165140852395       1  \n",
       "3   085854233439       2  \n",
       "4  4811208002736       2  "
      ]
     },
     "execution_count": 15,
     "metadata": {},
     "output_type": "execute_result"
    }
   ],
   "source": [
    "data.head()"
   ]
  },
  {
   "cell_type": "code",
   "execution_count": 16,
   "metadata": {
    "id": "REHlzCFTEBV1"
   },
   "outputs": [],
   "source": [
    "columns_titles = ['Number', 'Barcode', 'Name']\n",
    "data = data.reindex(columns=columns_titles)"
   ]
  },
  {
   "cell_type": "code",
   "execution_count": 17,
   "metadata": {
    "colab": {
     "base_uri": "https://localhost:8080/",
     "height": 206
    },
    "id": "Yeoi4ixKETrc",
    "outputId": "80a1f397-2cbc-44d0-98c9-ce2efbc31c07"
   },
   "outputs": [
    {
     "data": {
      "text/html": [
       "<div>\n",
       "<style scoped>\n",
       "    .dataframe tbody tr th:only-of-type {\n",
       "        vertical-align: middle;\n",
       "    }\n",
       "\n",
       "    .dataframe tbody tr th {\n",
       "        vertical-align: top;\n",
       "    }\n",
       "\n",
       "    .dataframe thead th {\n",
       "        text-align: right;\n",
       "    }\n",
       "</style>\n",
       "<table border=\"1\" class=\"dataframe\">\n",
       "  <thead>\n",
       "    <tr style=\"text-align: right;\">\n",
       "      <th></th>\n",
       "      <th>Number</th>\n",
       "      <th>Barcode</th>\n",
       "      <th>Name</th>\n",
       "    </tr>\n",
       "  </thead>\n",
       "  <tbody>\n",
       "    <tr>\n",
       "      <th>0</th>\n",
       "      <td>1</td>\n",
       "      <td>4606008386861</td>\n",
       "      <td>Пенал школьный 46450/25 Собачки малиновый Феникс</td>\n",
       "    </tr>\n",
       "    <tr>\n",
       "      <th>1</th>\n",
       "      <td>1</td>\n",
       "      <td>4044996135779</td>\n",
       "      <td>Отвертка, SL5 х 100 мм, CrV, двухкомпонентная ...</td>\n",
       "    </tr>\n",
       "    <tr>\n",
       "      <th>2</th>\n",
       "      <td>1</td>\n",
       "      <td>3165140852395</td>\n",
       "      <td>Далекомір BOSCH Zamo II (металлическая упаковк...</td>\n",
       "    </tr>\n",
       "    <tr>\n",
       "      <th>3</th>\n",
       "      <td>2</td>\n",
       "      <td>085854233439</td>\n",
       "      <td>Чохол THULE Vectros Protective 13 \"MacBook Air...</td>\n",
       "    </tr>\n",
       "    <tr>\n",
       "      <th>4</th>\n",
       "      <td>2</td>\n",
       "      <td>4811208002736</td>\n",
       "      <td>Анкер-клин 6х60 мм STARFIX SMP1-83721-1</td>\n",
       "    </tr>\n",
       "  </tbody>\n",
       "</table>\n",
       "</div>"
      ],
      "text/plain": [
       "   Number        Barcode                                               Name\n",
       "0       1  4606008386861   Пенал школьный 46450/25 Собачки малиновый Феникс\n",
       "1       1  4044996135779  Отвертка, SL5 х 100 мм, CrV, двухкомпонентная ...\n",
       "2       1  3165140852395  Далекомір BOSCH Zamo II (металлическая упаковк...\n",
       "3       2   085854233439  Чохол THULE Vectros Protective 13 \"MacBook Air...\n",
       "4       2  4811208002736            Анкер-клин 6х60 мм STARFIX SMP1-83721-1"
      ]
     },
     "execution_count": 17,
     "metadata": {},
     "output_type": "execute_result"
    }
   ],
   "source": [
    "data.head()"
   ]
  },
  {
   "cell_type": "code",
   "execution_count": 18,
   "metadata": {
    "id": "ka0PvgnCFCyc"
   },
   "outputs": [],
   "source": [
    "data1 = data.sample(frac=0.2, ignore_index=True).sort_values('Number').reset_index(drop=True)\n",
    "data2 = data.sample(frac=0.3, ignore_index=True).sort_values('Number').reset_index(drop=True)\n",
    "data3 = data.sample(frac=0.5, ignore_index=True).sort_values('Number').reset_index(drop=True)"
   ]
  },
  {
   "cell_type": "code",
   "execution_count": 19,
   "metadata": {
    "id": "G54WY5JsIjhQ"
   },
   "outputs": [],
   "source": [
    "data1.to_csv('data/data1.csv')\n",
    "data2.to_csv('data/data2.csv')\n",
    "data3.to_csv('data/data3.csv')"
   ]
  }
 ],
 "metadata": {
  "colab": {
   "provenance": []
  },
  "kernelspec": {
   "display_name": "Python 3 (ipykernel)",
   "language": "python",
   "name": "python3"
  },
  "language_info": {
   "codemirror_mode": {
    "name": "ipython",
    "version": 3
   },
   "file_extension": ".py",
   "mimetype": "text/x-python",
   "name": "python",
   "nbconvert_exporter": "python",
   "pygments_lexer": "ipython3",
   "version": "3.11.7"
  }
 },
 "nbformat": 4,
 "nbformat_minor": 4
}
