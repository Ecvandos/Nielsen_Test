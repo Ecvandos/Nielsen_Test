{
 "cells": [
  {
   "cell_type": "code",
   "execution_count": 1,
   "metadata": {
    "id": "_TcWKhpku4bf"
   },
   "outputs": [],
   "source": [
    "# Подключение библиотек\n",
    "\n",
    "import pandas as pd"
   ]
  },
  {
   "cell_type": "code",
   "execution_count": 2,
   "metadata": {
    "id": "tIDGHG9A4S-I"
   },
   "outputs": [],
   "source": [
    "# Загрузка данных\n",
    "\n",
    "df = pd.read_csv('data/barcodes.csv', delimiter=';', low_memory=False)"
   ]
  },
  {
   "cell_type": "code",
   "execution_count": 3,
   "metadata": {
    "colab": {
     "base_uri": "https://localhost:8080/",
     "height": 300
    },
    "id": "W2lFQ8HO5U8H",
    "outputId": "b2a4b7c4-c596-40ae-bc25-4ba6df58c198"
   },
   "outputs": [
    {
     "data": {
      "text/html": [
       "<div>\n",
       "<style scoped>\n",
       "    .dataframe tbody tr th:only-of-type {\n",
       "        vertical-align: middle;\n",
       "    }\n",
       "\n",
       "    .dataframe tbody tr th {\n",
       "        vertical-align: top;\n",
       "    }\n",
       "\n",
       "    .dataframe thead th {\n",
       "        text-align: right;\n",
       "    }\n",
       "</style>\n",
       "<table border=\"1\" class=\"dataframe\">\n",
       "  <thead>\n",
       "    <tr style=\"text-align: right;\">\n",
       "      <th></th>\n",
       "      <th>Id</th>\n",
       "    </tr>\n",
       "  </thead>\n",
       "  <tbody>\n",
       "    <tr>\n",
       "      <th>count</th>\n",
       "      <td>1.816200e+06</td>\n",
       "    </tr>\n",
       "    <tr>\n",
       "      <th>mean</th>\n",
       "      <td>9.081006e+05</td>\n",
       "    </tr>\n",
       "    <tr>\n",
       "      <th>std</th>\n",
       "      <td>5.242920e+05</td>\n",
       "    </tr>\n",
       "    <tr>\n",
       "      <th>min</th>\n",
       "      <td>1.000000e+00</td>\n",
       "    </tr>\n",
       "    <tr>\n",
       "      <th>25%</th>\n",
       "      <td>4.540508e+05</td>\n",
       "    </tr>\n",
       "    <tr>\n",
       "      <th>50%</th>\n",
       "      <td>9.081005e+05</td>\n",
       "    </tr>\n",
       "    <tr>\n",
       "      <th>75%</th>\n",
       "      <td>1.362150e+06</td>\n",
       "    </tr>\n",
       "    <tr>\n",
       "      <th>max</th>\n",
       "      <td>1.816201e+06</td>\n",
       "    </tr>\n",
       "  </tbody>\n",
       "</table>\n",
       "</div>"
      ],
      "text/plain": [
       "                 Id\n",
       "count  1.816200e+06\n",
       "mean   9.081006e+05\n",
       "std    5.242920e+05\n",
       "min    1.000000e+00\n",
       "25%    4.540508e+05\n",
       "50%    9.081005e+05\n",
       "75%    1.362150e+06\n",
       "max    1.816201e+06"
      ]
     },
     "execution_count": 3,
     "metadata": {},
     "output_type": "execute_result"
    }
   ],
   "source": [
    "df.describe()"
   ]
  },
  {
   "cell_type": "code",
   "execution_count": 4,
   "metadata": {
    "colab": {
     "base_uri": "https://localhost:8080/"
    },
    "id": "cfNFFhYW5dCF",
    "outputId": "5c12c511-61fc-46b2-d903-f90025cebf06"
   },
   "outputs": [
    {
     "name": "stdout",
     "output_type": "stream",
     "text": [
      "<class 'pandas.core.frame.DataFrame'>\n",
      "RangeIndex: 1816200 entries, 0 to 1816199\n",
      "Data columns (total 6 columns):\n",
      " #   Column    Dtype \n",
      "---  ------    ----- \n",
      " 0   Id        int64 \n",
      " 1   Category  object\n",
      " 2   Vendor    object\n",
      " 3   Name      object\n",
      " 4   Article   object\n",
      " 5   Barcode   object\n",
      "dtypes: int64(1), object(5)\n",
      "memory usage: 83.1+ MB\n"
     ]
    }
   ],
   "source": [
    "df.info()"
   ]
  },
  {
   "cell_type": "code",
   "execution_count": 5,
   "metadata": {
    "colab": {
     "base_uri": "https://localhost:8080/",
     "height": 424
    },
    "id": "J2XPs4fF4kVR",
    "outputId": "b808e3a6-8788-4863-9931-7a0e310b6bc1"
   },
   "outputs": [
    {
     "data": {
      "text/html": [
       "<div>\n",
       "<style scoped>\n",
       "    .dataframe tbody tr th:only-of-type {\n",
       "        vertical-align: middle;\n",
       "    }\n",
       "\n",
       "    .dataframe tbody tr th {\n",
       "        vertical-align: top;\n",
       "    }\n",
       "\n",
       "    .dataframe thead th {\n",
       "        text-align: right;\n",
       "    }\n",
       "</style>\n",
       "<table border=\"1\" class=\"dataframe\">\n",
       "  <thead>\n",
       "    <tr style=\"text-align: right;\">\n",
       "      <th></th>\n",
       "      <th>Id</th>\n",
       "      <th>Category</th>\n",
       "      <th>Vendor</th>\n",
       "      <th>Name</th>\n",
       "      <th>Article</th>\n",
       "      <th>Barcode</th>\n",
       "    </tr>\n",
       "  </thead>\n",
       "  <tbody>\n",
       "    <tr>\n",
       "      <th>0</th>\n",
       "      <td>1</td>\n",
       "      <td>Плоскогубцы</td>\n",
       "      <td>Topex</td>\n",
       "      <td>Плоскогубцы Topex комбинированные, 180 мм (32D...</td>\n",
       "      <td>NaN</td>\n",
       "      <td>5902062009616</td>\n",
       "    </tr>\n",
       "    <tr>\n",
       "      <th>1</th>\n",
       "      <td>2</td>\n",
       "      <td>Наборы инструментов</td>\n",
       "      <td>Topex</td>\n",
       "      <td>Набор инструментов Topex 38D225, 41 шт. (38D225)</td>\n",
       "      <td>NaN</td>\n",
       "      <td>5902062008657</td>\n",
       "    </tr>\n",
       "    <tr>\n",
       "      <th>2</th>\n",
       "      <td>3</td>\n",
       "      <td>Уровни</td>\n",
       "      <td>Topex</td>\n",
       "      <td>Уровень Topex алюминиевый, тип 600, 150 см (29...</td>\n",
       "      <td>NaN</td>\n",
       "      <td>5902062112101</td>\n",
       "    </tr>\n",
       "    <tr>\n",
       "      <th>3</th>\n",
       "      <td>4</td>\n",
       "      <td>Киянки</td>\n",
       "      <td>Topex</td>\n",
       "      <td>Киянка Topex резиновая O 63 мм, 680 г (02A355)</td>\n",
       "      <td>NaN</td>\n",
       "      <td>5902062032287</td>\n",
       "    </tr>\n",
       "    <tr>\n",
       "      <th>4</th>\n",
       "      <td>5</td>\n",
       "      <td>Лазерные нивелиры</td>\n",
       "      <td>BOSCH PT</td>\n",
       "      <td>Лазерный нивелир BOSCH PT GLL 3-15 + мини штат...</td>\n",
       "      <td>NaN</td>\n",
       "      <td>3165140859394</td>\n",
       "    </tr>\n",
       "    <tr>\n",
       "      <th>...</th>\n",
       "      <td>...</td>\n",
       "      <td>...</td>\n",
       "      <td>...</td>\n",
       "      <td>...</td>\n",
       "      <td>...</td>\n",
       "      <td>...</td>\n",
       "    </tr>\n",
       "    <tr>\n",
       "      <th>1816195</th>\n",
       "      <td>1816197</td>\n",
       "      <td>Батарейки и аккумуляторы</td>\n",
       "      <td>Renata</td>\n",
       "      <td>Элемент питания RENATA R377. MP - 10 шт.</td>\n",
       "      <td>NaN</td>\n",
       "      <td>7856183258058</td>\n",
       "    </tr>\n",
       "    <tr>\n",
       "      <th>1816196</th>\n",
       "      <td>1816198</td>\n",
       "      <td>Батарейки и аккумуляторы</td>\n",
       "      <td>Duracell</td>\n",
       "      <td>Элемент питания Saft LS 14500/STD AA 2.6Ah 3.6...</td>\n",
       "      <td>NaN</td>\n",
       "      <td>4630002137495</td>\n",
       "    </tr>\n",
       "    <tr>\n",
       "      <th>1816197</th>\n",
       "      <td>1816199</td>\n",
       "      <td>Батарейки и аккумуляторы</td>\n",
       "      <td>VARTA</td>\n",
       "      <td>Элемент питания VARTA SUPERLIFE 2012 3R12 BL1</td>\n",
       "      <td>NaN</td>\n",
       "      <td>4008496556380</td>\n",
       "    </tr>\n",
       "    <tr>\n",
       "      <th>1816198</th>\n",
       "      <td>1816200</td>\n",
       "      <td>Умные колонки</td>\n",
       "      <td>Яндекс</td>\n",
       "      <td>Яндекс Станция 2 - умная колонка с Алисой, ант...</td>\n",
       "      <td>NaN</td>\n",
       "      <td>4670028540749</td>\n",
       "    </tr>\n",
       "    <tr>\n",
       "      <th>1816199</th>\n",
       "      <td>1816201</td>\n",
       "      <td>Умные колонки</td>\n",
       "      <td>Яндекс</td>\n",
       "      <td>Яндекс Станция 2 - умная колонка с Алисой, пес...</td>\n",
       "      <td>NaN</td>\n",
       "      <td>4670028540824</td>\n",
       "    </tr>\n",
       "  </tbody>\n",
       "</table>\n",
       "<p>1567205 rows × 6 columns</p>\n",
       "</div>"
      ],
      "text/plain": [
       "              Id                  Category    Vendor  \\\n",
       "0              1               Плоскогубцы     Topex   \n",
       "1              2       Наборы инструментов     Topex   \n",
       "2              3                    Уровни     Topex   \n",
       "3              4                    Киянки     Topex   \n",
       "4              5         Лазерные нивелиры  BOSCH PT   \n",
       "...          ...                       ...       ...   \n",
       "1816195  1816197  Батарейки и аккумуляторы    Renata   \n",
       "1816196  1816198  Батарейки и аккумуляторы  Duracell   \n",
       "1816197  1816199  Батарейки и аккумуляторы     VARTA   \n",
       "1816198  1816200             Умные колонки    Яндекс   \n",
       "1816199  1816201             Умные колонки    Яндекс   \n",
       "\n",
       "                                                      Name Article  \\\n",
       "0        Плоскогубцы Topex комбинированные, 180 мм (32D...     NaN   \n",
       "1         Набор инструментов Topex 38D225, 41 шт. (38D225)     NaN   \n",
       "2        Уровень Topex алюминиевый, тип 600, 150 см (29...     NaN   \n",
       "3           Киянка Topex резиновая O 63 мм, 680 г (02A355)     NaN   \n",
       "4        Лазерный нивелир BOSCH PT GLL 3-15 + мини штат...     NaN   \n",
       "...                                                    ...     ...   \n",
       "1816195           Элемент питания RENATA R377. MP - 10 шт.     NaN   \n",
       "1816196  Элемент питания Saft LS 14500/STD AA 2.6Ah 3.6...     NaN   \n",
       "1816197      Элемент питания VARTA SUPERLIFE 2012 3R12 BL1     NaN   \n",
       "1816198  Яндекс Станция 2 - умная колонка с Алисой, ант...     NaN   \n",
       "1816199  Яндекс Станция 2 - умная колонка с Алисой, пес...     NaN   \n",
       "\n",
       "               Barcode  \n",
       "0        5902062009616  \n",
       "1        5902062008657  \n",
       "2        5902062112101  \n",
       "3        5902062032287  \n",
       "4        3165140859394  \n",
       "...                ...  \n",
       "1816195  7856183258058  \n",
       "1816196  4630002137495  \n",
       "1816197  4008496556380  \n",
       "1816198  4670028540749  \n",
       "1816199  4670028540824  \n",
       "\n",
       "[1567205 rows x 6 columns]"
      ]
     },
     "execution_count": 5,
     "metadata": {},
     "output_type": "execute_result"
    }
   ],
   "source": [
    "df[df.Article.isnull()]"
   ]
  },
  {
   "cell_type": "code",
   "execution_count": 6,
   "metadata": {
    "id": "SXMUsRK_5w-u"
   },
   "outputs": [],
   "source": [
    "data = df.copy()\n",
    "data = data.drop(columns=['Id', 'Category', 'Vendor', 'Article'])"
   ]
  },
  {
   "cell_type": "code",
   "execution_count": 7,
   "metadata": {
    "colab": {
     "base_uri": "https://localhost:8080/"
    },
    "id": "dHba4yGv6Z9x",
    "outputId": "d35a4fd0-0c95-406b-99e8-ff0032ad7b50"
   },
   "outputs": [
    {
     "name": "stdout",
     "output_type": "stream",
     "text": [
      "<class 'pandas.core.frame.DataFrame'>\n",
      "RangeIndex: 1816200 entries, 0 to 1816199\n",
      "Data columns (total 2 columns):\n",
      " #   Column   Dtype \n",
      "---  ------   ----- \n",
      " 0   Name     object\n",
      " 1   Barcode  object\n",
      "dtypes: object(2)\n",
      "memory usage: 27.7+ MB\n"
     ]
    }
   ],
   "source": [
    "data.info()"
   ]
  },
  {
   "cell_type": "code",
   "execution_count": 8,
   "metadata": {
    "id": "stoJIBMB6hLJ"
   },
   "outputs": [],
   "source": [
    "data = data.drop(data[data['Barcode'].isna()].index, axis=0)"
   ]
  },
  {
   "cell_type": "code",
   "execution_count": 9,
   "metadata": {
    "id": "cw3wvWND7JmX"
   },
   "outputs": [],
   "source": [
    "data = data.drop(data[data['Name'].isna()].index, axis=0)"
   ]
  },
  {
   "cell_type": "code",
   "execution_count": 10,
   "metadata": {
    "colab": {
     "base_uri": "https://localhost:8080/",
     "height": 424
    },
    "id": "X1KVJKFW9KPt",
    "outputId": "dd4bf2bb-1738-4ae6-cdb6-771ed18ec90a"
   },
   "outputs": [
    {
     "data": {
      "text/html": [
       "<div>\n",
       "<style scoped>\n",
       "    .dataframe tbody tr th:only-of-type {\n",
       "        vertical-align: middle;\n",
       "    }\n",
       "\n",
       "    .dataframe tbody tr th {\n",
       "        vertical-align: top;\n",
       "    }\n",
       "\n",
       "    .dataframe thead th {\n",
       "        text-align: right;\n",
       "    }\n",
       "</style>\n",
       "<table border=\"1\" class=\"dataframe\">\n",
       "  <thead>\n",
       "    <tr style=\"text-align: right;\">\n",
       "      <th></th>\n",
       "      <th>Name</th>\n",
       "      <th>Barcode</th>\n",
       "    </tr>\n",
       "  </thead>\n",
       "  <tbody>\n",
       "    <tr>\n",
       "      <th>0</th>\n",
       "      <td>Плоскогубцы Topex комбинированные, 180 мм (32D...</td>\n",
       "      <td>5902062009616</td>\n",
       "    </tr>\n",
       "    <tr>\n",
       "      <th>1</th>\n",
       "      <td>Набор инструментов Topex 38D225, 41 шт. (38D225)</td>\n",
       "      <td>5902062008657</td>\n",
       "    </tr>\n",
       "    <tr>\n",
       "      <th>2</th>\n",
       "      <td>Уровень Topex алюминиевый, тип 600, 150 см (29...</td>\n",
       "      <td>5902062112101</td>\n",
       "    </tr>\n",
       "    <tr>\n",
       "      <th>3</th>\n",
       "      <td>Киянка Topex резиновая O 63 мм, 680 г (02A355)</td>\n",
       "      <td>5902062032287</td>\n",
       "    </tr>\n",
       "    <tr>\n",
       "      <th>4</th>\n",
       "      <td>Лазерный нивелир BOSCH PT GLL 3-15 + мини штат...</td>\n",
       "      <td>3165140859394</td>\n",
       "    </tr>\n",
       "    <tr>\n",
       "      <th>...</th>\n",
       "      <td>...</td>\n",
       "      <td>...</td>\n",
       "    </tr>\n",
       "    <tr>\n",
       "      <th>1816195</th>\n",
       "      <td>Элемент питания RENATA R377. MP - 10 шт.</td>\n",
       "      <td>7856183258058</td>\n",
       "    </tr>\n",
       "    <tr>\n",
       "      <th>1816196</th>\n",
       "      <td>Элемент питания Saft LS 14500/STD AA 2.6Ah 3.6...</td>\n",
       "      <td>4630002137495</td>\n",
       "    </tr>\n",
       "    <tr>\n",
       "      <th>1816197</th>\n",
       "      <td>Элемент питания VARTA SUPERLIFE 2012 3R12 BL1</td>\n",
       "      <td>4008496556380</td>\n",
       "    </tr>\n",
       "    <tr>\n",
       "      <th>1816198</th>\n",
       "      <td>Яндекс Станция 2 - умная колонка с Алисой, ант...</td>\n",
       "      <td>4670028540749</td>\n",
       "    </tr>\n",
       "    <tr>\n",
       "      <th>1816199</th>\n",
       "      <td>Яндекс Станция 2 - умная колонка с Алисой, пес...</td>\n",
       "      <td>4670028540824</td>\n",
       "    </tr>\n",
       "  </tbody>\n",
       "</table>\n",
       "<p>1816200 rows × 2 columns</p>\n",
       "</div>"
      ],
      "text/plain": [
       "                                                      Name        Barcode\n",
       "0        Плоскогубцы Topex комбинированные, 180 мм (32D...  5902062009616\n",
       "1         Набор инструментов Topex 38D225, 41 шт. (38D225)  5902062008657\n",
       "2        Уровень Topex алюминиевый, тип 600, 150 см (29...  5902062112101\n",
       "3           Киянка Topex резиновая O 63 мм, 680 г (02A355)  5902062032287\n",
       "4        Лазерный нивелир BOSCH PT GLL 3-15 + мини штат...  3165140859394\n",
       "...                                                    ...            ...\n",
       "1816195           Элемент питания RENATA R377. MP - 10 шт.  7856183258058\n",
       "1816196  Элемент питания Saft LS 14500/STD AA 2.6Ah 3.6...  4630002137495\n",
       "1816197      Элемент питания VARTA SUPERLIFE 2012 3R12 BL1  4008496556380\n",
       "1816198  Яндекс Станция 2 - умная колонка с Алисой, ант...  4670028540749\n",
       "1816199  Яндекс Станция 2 - умная колонка с Алисой, пес...  4670028540824\n",
       "\n",
       "[1816200 rows x 2 columns]"
      ]
     },
     "execution_count": 10,
     "metadata": {},
     "output_type": "execute_result"
    }
   ],
   "source": [
    "data"
   ]
  },
  {
   "cell_type": "code",
   "execution_count": 11,
   "metadata": {
    "id": "77GzVaNZAgM9"
   },
   "outputs": [],
   "source": [
    "import random\n",
    "n = data.shape[0]-1\n",
    "mask = [random.randint(0,1) for _ in range(n+1)]"
   ]
  },
  {
   "cell_type": "code",
   "execution_count": 12,
   "metadata": {
    "id": "LOBasA1iA03p"
   },
   "outputs": [],
   "source": [
    "number = [1]\n",
    "for i in range(1, n+1):\n",
    "    if mask[i] == 0:\n",
    "        number.append(number[i-1])\n",
    "    else:\n",
    "        number.append(number[i-1]+1)"
   ]
  },
  {
   "cell_type": "code",
   "execution_count": 13,
   "metadata": {
    "id": "ud41cdbrBdh0"
   },
   "outputs": [],
   "source": [
    "Number = pd.Series(data=number, name='Number')"
   ]
  },
  {
   "cell_type": "code",
   "execution_count": 14,
   "metadata": {
    "id": "Qw3Xf6h-Bkg1"
   },
   "outputs": [],
   "source": [
    "data['Number'] = Number"
   ]
  },
  {
   "cell_type": "code",
   "execution_count": 15,
   "metadata": {
    "colab": {
     "base_uri": "https://localhost:8080/",
     "height": 206
    },
    "id": "0dy3AgV0D7ua",
    "outputId": "401b5ba7-1b97-497b-93f7-e4456c57e68f"
   },
   "outputs": [
    {
     "data": {
      "text/html": [
       "<div>\n",
       "<style scoped>\n",
       "    .dataframe tbody tr th:only-of-type {\n",
       "        vertical-align: middle;\n",
       "    }\n",
       "\n",
       "    .dataframe tbody tr th {\n",
       "        vertical-align: top;\n",
       "    }\n",
       "\n",
       "    .dataframe thead th {\n",
       "        text-align: right;\n",
       "    }\n",
       "</style>\n",
       "<table border=\"1\" class=\"dataframe\">\n",
       "  <thead>\n",
       "    <tr style=\"text-align: right;\">\n",
       "      <th></th>\n",
       "      <th>Name</th>\n",
       "      <th>Barcode</th>\n",
       "      <th>Number</th>\n",
       "    </tr>\n",
       "  </thead>\n",
       "  <tbody>\n",
       "    <tr>\n",
       "      <th>0</th>\n",
       "      <td>Плоскогубцы Topex комбинированные, 180 мм (32D...</td>\n",
       "      <td>5902062009616</td>\n",
       "      <td>1</td>\n",
       "    </tr>\n",
       "    <tr>\n",
       "      <th>1</th>\n",
       "      <td>Набор инструментов Topex 38D225, 41 шт. (38D225)</td>\n",
       "      <td>5902062008657</td>\n",
       "      <td>1</td>\n",
       "    </tr>\n",
       "    <tr>\n",
       "      <th>2</th>\n",
       "      <td>Уровень Topex алюминиевый, тип 600, 150 см (29...</td>\n",
       "      <td>5902062112101</td>\n",
       "      <td>1</td>\n",
       "    </tr>\n",
       "    <tr>\n",
       "      <th>3</th>\n",
       "      <td>Киянка Topex резиновая O 63 мм, 680 г (02A355)</td>\n",
       "      <td>5902062032287</td>\n",
       "      <td>2</td>\n",
       "    </tr>\n",
       "    <tr>\n",
       "      <th>4</th>\n",
       "      <td>Лазерный нивелир BOSCH PT GLL 3-15 + мини штат...</td>\n",
       "      <td>3165140859394</td>\n",
       "      <td>3</td>\n",
       "    </tr>\n",
       "  </tbody>\n",
       "</table>\n",
       "</div>"
      ],
      "text/plain": [
       "                                                Name        Barcode  Number\n",
       "0  Плоскогубцы Topex комбинированные, 180 мм (32D...  5902062009616       1\n",
       "1   Набор инструментов Topex 38D225, 41 шт. (38D225)  5902062008657       1\n",
       "2  Уровень Topex алюминиевый, тип 600, 150 см (29...  5902062112101       1\n",
       "3     Киянка Topex резиновая O 63 мм, 680 г (02A355)  5902062032287       2\n",
       "4  Лазерный нивелир BOSCH PT GLL 3-15 + мини штат...  3165140859394       3"
      ]
     },
     "execution_count": 15,
     "metadata": {},
     "output_type": "execute_result"
    }
   ],
   "source": [
    "data.head()"
   ]
  },
  {
   "cell_type": "code",
   "execution_count": 16,
   "metadata": {
    "id": "REHlzCFTEBV1"
   },
   "outputs": [],
   "source": [
    "columns_titles = ['Number', 'Barcode', 'Name']\n",
    "data = data.reindex(columns=columns_titles)"
   ]
  },
  {
   "cell_type": "code",
   "execution_count": 17,
   "metadata": {
    "colab": {
     "base_uri": "https://localhost:8080/",
     "height": 206
    },
    "id": "Yeoi4ixKETrc",
    "outputId": "80a1f397-2cbc-44d0-98c9-ce2efbc31c07"
   },
   "outputs": [
    {
     "data": {
      "text/html": [
       "<div>\n",
       "<style scoped>\n",
       "    .dataframe tbody tr th:only-of-type {\n",
       "        vertical-align: middle;\n",
       "    }\n",
       "\n",
       "    .dataframe tbody tr th {\n",
       "        vertical-align: top;\n",
       "    }\n",
       "\n",
       "    .dataframe thead th {\n",
       "        text-align: right;\n",
       "    }\n",
       "</style>\n",
       "<table border=\"1\" class=\"dataframe\">\n",
       "  <thead>\n",
       "    <tr style=\"text-align: right;\">\n",
       "      <th></th>\n",
       "      <th>Number</th>\n",
       "      <th>Barcode</th>\n",
       "      <th>Name</th>\n",
       "    </tr>\n",
       "  </thead>\n",
       "  <tbody>\n",
       "    <tr>\n",
       "      <th>0</th>\n",
       "      <td>1</td>\n",
       "      <td>5902062009616</td>\n",
       "      <td>Плоскогубцы Topex комбинированные, 180 мм (32D...</td>\n",
       "    </tr>\n",
       "    <tr>\n",
       "      <th>1</th>\n",
       "      <td>1</td>\n",
       "      <td>5902062008657</td>\n",
       "      <td>Набор инструментов Topex 38D225, 41 шт. (38D225)</td>\n",
       "    </tr>\n",
       "    <tr>\n",
       "      <th>2</th>\n",
       "      <td>1</td>\n",
       "      <td>5902062112101</td>\n",
       "      <td>Уровень Topex алюминиевый, тип 600, 150 см (29...</td>\n",
       "    </tr>\n",
       "    <tr>\n",
       "      <th>3</th>\n",
       "      <td>2</td>\n",
       "      <td>5902062032287</td>\n",
       "      <td>Киянка Topex резиновая O 63 мм, 680 г (02A355)</td>\n",
       "    </tr>\n",
       "    <tr>\n",
       "      <th>4</th>\n",
       "      <td>3</td>\n",
       "      <td>3165140859394</td>\n",
       "      <td>Лазерный нивелир BOSCH PT GLL 3-15 + мини штат...</td>\n",
       "    </tr>\n",
       "  </tbody>\n",
       "</table>\n",
       "</div>"
      ],
      "text/plain": [
       "   Number        Barcode                                               Name\n",
       "0       1  5902062009616  Плоскогубцы Topex комбинированные, 180 мм (32D...\n",
       "1       1  5902062008657   Набор инструментов Topex 38D225, 41 шт. (38D225)\n",
       "2       1  5902062112101  Уровень Topex алюминиевый, тип 600, 150 см (29...\n",
       "3       2  5902062032287     Киянка Topex резиновая O 63 мм, 680 г (02A355)\n",
       "4       3  3165140859394  Лазерный нивелир BOSCH PT GLL 3-15 + мини штат..."
      ]
     },
     "execution_count": 17,
     "metadata": {},
     "output_type": "execute_result"
    }
   ],
   "source": [
    "data.head()"
   ]
  },
  {
   "cell_type": "code",
   "execution_count": 18,
   "metadata": {
    "id": "ka0PvgnCFCyc"
   },
   "outputs": [],
   "source": [
    "data1 = data.sample(frac=0.2, ignore_index=True).sort_values('Number').reset_index(drop=True)\n",
    "data2 = data.sample(frac=0.3, ignore_index=True).sort_values('Number').reset_index(drop=True)\n",
    "data3 = data.sample(frac=0.5, ignore_index=True).sort_values('Number').reset_index(drop=True)"
   ]
  },
  {
   "cell_type": "code",
   "execution_count": 19,
   "metadata": {
    "id": "G54WY5JsIjhQ"
   },
   "outputs": [],
   "source": [
    "data1.to_csv('data/data1.csv')\n",
    "data2.to_csv('data/data2.csv')\n",
    "data3.to_csv('data/data3.csv')"
   ]
  }
 ],
 "metadata": {
  "colab": {
   "provenance": []
  },
  "kernelspec": {
   "display_name": "Python 3 (ipykernel)",
   "language": "python",
   "name": "python3"
  },
  "language_info": {
   "codemirror_mode": {
    "name": "ipython",
    "version": 3
   },
   "file_extension": ".py",
   "mimetype": "text/x-python",
   "name": "python",
   "nbconvert_exporter": "python",
   "pygments_lexer": "ipython3",
   "version": "3.11.7"
  }
 },
 "nbformat": 4,
 "nbformat_minor": 4
}
